{
 "cells": [
  {
   "cell_type": "code",
   "execution_count": 1,
   "metadata": {},
   "outputs": [
    {
     "name": "stdout",
     "output_type": "stream",
     "text": [
      "/Users/konstantin/Documents/Projects/McGill/McGill-INSY-669-GroupProject\n"
     ]
    }
   ],
   "source": [
    "# GENERIC\n",
    "import pandas as pd\n",
    "pd.options.mode.chained_assignment = None\n",
    "import numpy as np\n",
    "import os\n",
    "import re\n",
    "import tqdm\n",
    "\n",
    "from vaderSentiment.vaderSentiment import SentimentIntensityAnalyzer\n",
    "\n",
    "# INITIALIZATION\n",
    "directory = os.path.realpath(os.path.join(os.getcwd(),\"..\"))\n",
    "os.chdir(directory)\n",
    "print(directory)"
   ]
  },
  {
   "cell_type": "code",
   "execution_count": 2,
   "metadata": {},
   "outputs": [],
   "source": [
    "amzn = pd.read_csv(os.path.join(directory, 'data', 'Amazon', 'Amazon_comments_processed.csv'))\n",
    "amzn_drt = pd.read_csv(os.path.join(directory, 'data', 'Amazon', 'Amazon_comments.csv'))"
   ]
  },
  {
   "attachments": {},
   "cell_type": "markdown",
   "metadata": {},
   "source": [
    "### For sentiment analysis - the data has to be processed somewhat different"
   ]
  },
  {
   "cell_type": "code",
   "execution_count": 3,
   "metadata": {},
   "outputs": [
    {
     "name": "stderr",
     "output_type": "stream",
     "text": [
      "100%|██████████| 10000/10000 [00:00<00:00, 147446.90it/s]\n",
      "100%|██████████| 10000/10000 [00:00<00:00, 144327.09it/s]\n"
     ]
    }
   ],
   "source": [
    "def clean_text(text):  \n",
    "    text = str(text) \n",
    "\n",
    "    text = re.sub(r'^RT[\\s]+', '', text)\n",
    "    text = re.sub(r'\\$\\w*', '', text)\n",
    "    text = re.sub(r'$', '', text)\n",
    "    text = re.sub(r'https?://[^\\s\\n\\r]+', '', text)\n",
    "    text = re.sub(r'https?://[A-Za-z0-9./]+','',text)\n",
    "    text = re.sub(r'https//[A-Za-z0-9./]+','',text)\n",
    "    text = text.replace(\"\\n\",\"\")\n",
    "    text = re.sub('@[\\w]+', '', text)\n",
    "\n",
    "    text = re.sub(r\"n't\", \" not \", text)\n",
    "    text = re.sub(r\"\\'s\", \" \", text)\n",
    "    text = re.sub(r\"\\'ve\", \" have \", text)\n",
    "    text = re.sub(r\"\\'re\", \" are \", text)\n",
    "    text = re.sub(r\"\\'d\", \" would \", text)\n",
    "    text = re.sub(r\"\\'ll\", \" will \", text) \n",
    "\n",
    "    text = text.lower()\n",
    "    text = text.strip()\n",
    "\n",
    "    return(text)\n",
    "\n",
    "\n",
    "pros_list = amzn_drt.Pros.tolist()\n",
    "cons_list = amzn_drt.Cons.tolist()\n",
    "\n",
    "pros_clean = [clean_text(text) for text in tqdm.tqdm(pros_list)]\n",
    "cons_clean = [clean_text(text) for text in tqdm.tqdm(cons_list)]"
   ]
  },
  {
   "attachments": {},
   "cell_type": "markdown",
   "metadata": {},
   "source": [
    "### Sentiment Analysis\n",
    "estimate compound score"
   ]
  },
  {
   "cell_type": "code",
   "execution_count": 14,
   "metadata": {},
   "outputs": [],
   "source": [
    "analyzer = SentimentIntensityAnalyzer()\n",
    "\n",
    "pros_sent = []\n",
    "for text in pros_clean:\n",
    "    vs = analyzer.polarity_scores(text)\n",
    "    pros_sent.append(vs)\n",
    "pros_sent = pd.DataFrame(pros_sent)\n",
    "pros_sent = pros_sent.rename(columns={'compound': 'pros_comp'})\n",
    "\n",
    "cons_set = []\n",
    "for text in cons_clean:\n",
    "    vs = analyzer.polarity_scores(text)\n",
    "    cons_set.append(vs)\n",
    "cons_sent = pd.DataFrame(cons_set)\n",
    "cons_sent = cons_sent.rename(columns={'compound': 'cons_comp'})\n",
    "\n",
    "sent_df = pd.concat([pros_sent, cons_sent], axis=1)\n",
    "sent_df['avg_comp'] = (sent_df['pros_comp'] + sent_df['cons_comp'])/2"
   ]
  },
  {
   "attachments": {},
   "cell_type": "markdown",
   "metadata": {},
   "source": [
    "### Sentiment Analysis\n",
    "assign sentiment value"
   ]
  },
  {
   "cell_type": "code",
   "execution_count": 19,
   "metadata": {},
   "outputs": [
    {
     "data": {
      "text/html": [
       "<div>\n",
       "<style scoped>\n",
       "    .dataframe tbody tr th:only-of-type {\n",
       "        vertical-align: middle;\n",
       "    }\n",
       "\n",
       "    .dataframe tbody tr th {\n",
       "        vertical-align: top;\n",
       "    }\n",
       "\n",
       "    .dataframe thead th {\n",
       "        text-align: right;\n",
       "    }\n",
       "</style>\n",
       "<table border=\"1\" class=\"dataframe\">\n",
       "  <thead>\n",
       "    <tr style=\"text-align: right;\">\n",
       "      <th></th>\n",
       "      <th>pros_sent</th>\n",
       "      <th>cons_sent</th>\n",
       "      <th>avg_sent</th>\n",
       "      <th>pros_comp</th>\n",
       "      <th>cons_comp</th>\n",
       "      <th>avg_comp</th>\n",
       "    </tr>\n",
       "  </thead>\n",
       "  <tbody>\n",
       "    <tr>\n",
       "      <th>0</th>\n",
       "      <td>positive</td>\n",
       "      <td>positive</td>\n",
       "      <td>positive</td>\n",
       "      <td>0.5994</td>\n",
       "      <td>0.2541</td>\n",
       "      <td>0.42675</td>\n",
       "    </tr>\n",
       "    <tr>\n",
       "      <th>1</th>\n",
       "      <td>positive</td>\n",
       "      <td>negative</td>\n",
       "      <td>negative</td>\n",
       "      <td>0.4215</td>\n",
       "      <td>-0.4404</td>\n",
       "      <td>-0.00945</td>\n",
       "    </tr>\n",
       "    <tr>\n",
       "      <th>2</th>\n",
       "      <td>positive</td>\n",
       "      <td>negative</td>\n",
       "      <td>positive</td>\n",
       "      <td>0.8481</td>\n",
       "      <td>0.0000</td>\n",
       "      <td>0.42405</td>\n",
       "    </tr>\n",
       "    <tr>\n",
       "      <th>3</th>\n",
       "      <td>positive</td>\n",
       "      <td>positive</td>\n",
       "      <td>positive</td>\n",
       "      <td>0.8750</td>\n",
       "      <td>0.7003</td>\n",
       "      <td>0.78765</td>\n",
       "    </tr>\n",
       "    <tr>\n",
       "      <th>4</th>\n",
       "      <td>positive</td>\n",
       "      <td>positive</td>\n",
       "      <td>positive</td>\n",
       "      <td>0.3818</td>\n",
       "      <td>0.7650</td>\n",
       "      <td>0.57340</td>\n",
       "    </tr>\n",
       "    <tr>\n",
       "      <th>...</th>\n",
       "      <td>...</td>\n",
       "      <td>...</td>\n",
       "      <td>...</td>\n",
       "      <td>...</td>\n",
       "      <td>...</td>\n",
       "      <td>...</td>\n",
       "    </tr>\n",
       "    <tr>\n",
       "      <th>9995</th>\n",
       "      <td>positive</td>\n",
       "      <td>positive</td>\n",
       "      <td>positive</td>\n",
       "      <td>0.8999</td>\n",
       "      <td>0.4656</td>\n",
       "      <td>0.68275</td>\n",
       "    </tr>\n",
       "    <tr>\n",
       "      <th>9996</th>\n",
       "      <td>positive</td>\n",
       "      <td>negative</td>\n",
       "      <td>positive</td>\n",
       "      <td>0.8591</td>\n",
       "      <td>0.0000</td>\n",
       "      <td>0.42955</td>\n",
       "    </tr>\n",
       "    <tr>\n",
       "      <th>9997</th>\n",
       "      <td>positive</td>\n",
       "      <td>negative</td>\n",
       "      <td>positive</td>\n",
       "      <td>0.8481</td>\n",
       "      <td>0.0000</td>\n",
       "      <td>0.42405</td>\n",
       "    </tr>\n",
       "    <tr>\n",
       "      <th>9998</th>\n",
       "      <td>positive</td>\n",
       "      <td>negative</td>\n",
       "      <td>positive</td>\n",
       "      <td>0.8625</td>\n",
       "      <td>-0.6332</td>\n",
       "      <td>0.11465</td>\n",
       "    </tr>\n",
       "    <tr>\n",
       "      <th>9999</th>\n",
       "      <td>negative</td>\n",
       "      <td>negative</td>\n",
       "      <td>negative</td>\n",
       "      <td>-0.2960</td>\n",
       "      <td>-0.7650</td>\n",
       "      <td>-0.53050</td>\n",
       "    </tr>\n",
       "  </tbody>\n",
       "</table>\n",
       "<p>10000 rows × 6 columns</p>\n",
       "</div>"
      ],
      "text/plain": [
       "     pros_sent cons_sent  avg_sent  pros_comp  cons_comp  avg_comp\n",
       "0     positive  positive  positive     0.5994     0.2541   0.42675\n",
       "1     positive  negative  negative     0.4215    -0.4404  -0.00945\n",
       "2     positive  negative  positive     0.8481     0.0000   0.42405\n",
       "3     positive  positive  positive     0.8750     0.7003   0.78765\n",
       "4     positive  positive  positive     0.3818     0.7650   0.57340\n",
       "...        ...       ...       ...        ...        ...       ...\n",
       "9995  positive  positive  positive     0.8999     0.4656   0.68275\n",
       "9996  positive  negative  positive     0.8591     0.0000   0.42955\n",
       "9997  positive  negative  positive     0.8481     0.0000   0.42405\n",
       "9998  positive  negative  positive     0.8625    -0.6332   0.11465\n",
       "9999  negative  negative  negative    -0.2960    -0.7650  -0.53050\n",
       "\n",
       "[10000 rows x 6 columns]"
      ]
     },
     "execution_count": 19,
     "metadata": {},
     "output_type": "execute_result"
    }
   ],
   "source": [
    "sent_df[['pros_sent','cons_sent', 'avg_sent']] = 'neutral'\n",
    "\n",
    "sent_df['pros_sent'] = np.where(sent_df.pros_comp > 0.1, 'positive', sent_df.pros_sent)\n",
    "sent_df['pros_sent'] = np.where(sent_df.pros_comp < 0.1, 'negative', sent_df.pros_sent)\n",
    "\n",
    "sent_df['cons_sent'] = np.where(sent_df.cons_comp > 0.1, 'positive', sent_df.cons_sent)\n",
    "sent_df['cons_sent'] = np.where(sent_df.cons_comp < 0.1, 'negative', sent_df.cons_sent)\n",
    "\n",
    "sent_df['avg_sent'] = np.where(sent_df.avg_comp > 0.1, 'positive', sent_df.avg_sent)\n",
    "sent_df['avg_sent'] = np.where(sent_df.avg_comp < 0.1, 'negative', sent_df.avg_sent)\n",
    "\n",
    "sent_df[['pros_sent','cons_sent', 'avg_sent', 'pros_comp', 'cons_comp', 'avg_comp']]"
   ]
  },
  {
   "cell_type": "code",
   "execution_count": 20,
   "metadata": {},
   "outputs": [],
   "source": [
    "amzn = pd.concat([amzn, sent_df], axis=1)\n",
    "amzn.to_csv(f'data/Amazon/Amazon_comments_sentiment.csv', index=False)"
   ]
  },
  {
   "attachments": {},
   "cell_type": "markdown",
   "metadata": {},
   "source": [
    "### Visualize Sentiments"
   ]
  }
 ],
 "metadata": {
  "kernelspec": {
   "display_name": "insy-669-group-project",
   "language": "python",
   "name": "python3"
  },
  "language_info": {
   "codemirror_mode": {
    "name": "ipython",
    "version": 3
   },
   "file_extension": ".py",
   "mimetype": "text/x-python",
   "name": "python",
   "nbconvert_exporter": "python",
   "pygments_lexer": "ipython3",
   "version": "3.9.16"
  },
  "orig_nbformat": 4,
  "vscode": {
   "interpreter": {
    "hash": "0396ee331a551301fed365a7deeb49c3b9b5eb7cc1e28c97c3ac2630d0536656"
   }
  }
 },
 "nbformat": 4,
 "nbformat_minor": 2
}
