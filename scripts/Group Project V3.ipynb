{
 "cells": [
  {
   "cell_type": "code",
   "execution_count": 1,
   "id": "fed7827c",
   "metadata": {},
   "outputs": [
    {
     "name": "stderr",
     "output_type": "stream",
     "text": [
      "[nltk_data] Downloading package omw-1.4 to\n",
      "[nltk_data]     /Users/oscarmontemayor/nltk_data...\n",
      "[nltk_data]   Package omw-1.4 is already up-to-date!\n"
     ]
    }
   ],
   "source": [
    "#import necesary libraries\n",
    "import requests #for scrapping\n",
    "import pandas as pd #data trasnformation\n",
    "from bs4 import BeautifulSoup #for scrapping\n",
    "import itertools #combinations\n",
    "import nltk # tokenize\n",
    "from nltk import pos_tag, sent_tokenize, wordpunct_tokenize # tokenize\n",
    "from nltk.corpus import stopwords #stopwords\n",
    "import string # for punctuation\n",
    "from collections import Counter # to get frequency of words\n",
    "from nltk.stem import WordNetLemmatizer # to lemmatize\n",
    "nltk.download('omw-1.4')\n",
    "from nltk.corpus import wordnet\n",
    "import matplotlib.pyplot as plt # for plotting"
   ]
  },
  {
   "cell_type": "code",
   "execution_count": 2,
   "id": "a8cb3465",
   "metadata": {},
   "outputs": [],
   "source": [
    "#Define URL\n",
    "Company = \"Amazon\"\n",
    "stars = []\n",
    "seniority = []\n",
    "titles = []\n",
    "dates = [] #Pending\n",
    "locations = [] #Pending\n",
    "cons=[]\n",
    "pros=[]\n",
    "\n",
    "for i in range(10):\n",
    "    url = \"https://www.glassdoor.ca/Reviews/Amazon-Reviews-E6036_P\"+str(i)+\".htm?filter.iso3Language=eng\"\n",
    "#Get response to retrieve data\n",
    "    response = requests.get(url)\n",
    "    soup = BeautifulSoup(response.text, \"html.parser\")\n",
    "    stars_text = [star.text for star in soup.find_all(\"span\", attrs={\"class\": \"ratingNumber mr-xsm\"})]\n",
    "    stars.extend(stars_text)\n",
    "    seniority_text = [seniority.text for seniority in soup.find_all(\"span\", attrs={\"class\": \"pt-xsm pt-md-0 css-1qxtz39 eg4psks0\"})]\n",
    "    seniority.extend(seniority_text)\n",
    "    title_text = [title.text for title in soup.find_all(\"a\", class_=\"reviewLink\")] \n",
    "    titles.extend(title_text)\n",
    "    cons_text = [con.text for con in soup.find_all(\"span\", attrs={\"data-test\": \"cons\"})] \n",
    "    cons.extend(cons_text)\n",
    "    pros_text = [pro.text for pro in soup.find_all(\"span\", attrs={\"data-test\": \"pros\"})] \n",
    "    pros.extend(pros_text)"
   ]
  },
  {
   "cell_type": "code",
   "execution_count": 8,
   "id": "93af2fca",
   "metadata": {},
   "outputs": [
    {
     "data": {
      "text/html": [
       "<div>\n",
       "<style scoped>\n",
       "    .dataframe tbody tr th:only-of-type {\n",
       "        vertical-align: middle;\n",
       "    }\n",
       "\n",
       "    .dataframe tbody tr th {\n",
       "        vertical-align: top;\n",
       "    }\n",
       "\n",
       "    .dataframe thead th {\n",
       "        text-align: right;\n",
       "    }\n",
       "</style>\n",
       "<table border=\"1\" class=\"dataframe\">\n",
       "  <thead>\n",
       "    <tr style=\"text-align: right;\">\n",
       "      <th></th>\n",
       "      <th>Stars</th>\n",
       "      <th>Employee_seniority</th>\n",
       "      <th>Title_Review</th>\n",
       "      <th>Pros</th>\n",
       "      <th>Cons</th>\n",
       "    </tr>\n",
       "  </thead>\n",
       "  <tbody>\n",
       "    <tr>\n",
       "      <th>0</th>\n",
       "      <td>4.0</td>\n",
       "      <td>Current Employee, less than 1 year</td>\n",
       "      <td>Great benefits</td>\n",
       "      <td>great benefits bonuses everything is available...</td>\n",
       "      <td>work culture is negative depending on the loca...</td>\n",
       "    </tr>\n",
       "    <tr>\n",
       "      <th>1</th>\n",
       "      <td>5.0</td>\n",
       "      <td>Former Employee</td>\n",
       "      <td>SDE in the AVS-CPP-SDK team</td>\n",
       "      <td>It teaches fast and focuses a lot of time on i...</td>\n",
       "      <td>Reduce the number of meetings.</td>\n",
       "    </tr>\n",
       "    <tr>\n",
       "      <th>2</th>\n",
       "      <td>4.0</td>\n",
       "      <td>Current Employee, more than 1 year</td>\n",
       "      <td>Big company</td>\n",
       "      <td>Good pay, good to have FAANG on your resume</td>\n",
       "      <td>Work life balance is not good</td>\n",
       "    </tr>\n",
       "    <tr>\n",
       "      <th>3</th>\n",
       "      <td>4.0</td>\n",
       "      <td>Current Employee</td>\n",
       "      <td>Good Company</td>\n",
       "      <td>Good pay, challenging and interesting work</td>\n",
       "      <td>Toxic team members, low growth.</td>\n",
       "    </tr>\n",
       "    <tr>\n",
       "      <th>4</th>\n",
       "      <td>4.0</td>\n",
       "      <td>Current Employee</td>\n",
       "      <td>Good company</td>\n",
       "      <td>It’s great for your resume</td>\n",
       "      <td>Pay structure is highly dependent upon the sto...</td>\n",
       "    </tr>\n",
       "  </tbody>\n",
       "</table>\n",
       "</div>"
      ],
      "text/plain": [
       "  Stars                  Employee_seniority                 Title_Review  \\\n",
       "0   4.0  Current Employee, less than 1 year               Great benefits   \n",
       "1   5.0                     Former Employee  SDE in the AVS-CPP-SDK team   \n",
       "2   4.0  Current Employee, more than 1 year                  Big company   \n",
       "3   4.0                    Current Employee                 Good Company   \n",
       "4   4.0                    Current Employee                 Good company   \n",
       "\n",
       "                                                Pros  \\\n",
       "0  great benefits bonuses everything is available...   \n",
       "1  It teaches fast and focuses a lot of time on i...   \n",
       "2        Good pay, good to have FAANG on your resume   \n",
       "3         Good pay, challenging and interesting work   \n",
       "4                         It’s great for your resume   \n",
       "\n",
       "                                                Cons  \n",
       "0  work culture is negative depending on the loca...  \n",
       "1                     Reduce the number of meetings.  \n",
       "2                      Work life balance is not good  \n",
       "3                    Toxic team members, low growth.  \n",
       "4  Pay structure is highly dependent upon the sto...  "
      ]
     },
     "execution_count": 8,
     "metadata": {},
     "output_type": "execute_result"
    }
   ],
   "source": [
    "# Transform lists to data frame\n",
    "df = pd.DataFrame({'Stars':stars,'Employee_seniority':seniority,\"Title_Review\": titles,'Pros': pros, 'Cons':cons})\n",
    "df.head()"
   ]
  },
  {
   "cell_type": "code",
   "execution_count": null,
   "id": "396b0596",
   "metadata": {},
   "outputs": [],
   "source": [
    "# Attempt 1 (without success)\n",
    "locations = []\n",
    "for i in range(2): # range for companies with a lot of reviews\n",
    "    url = \"https://www.glassdoor.ca/Reviews/Amazon-Reviews-E6036_P\"+str(i)+\".htm?filter.iso3Language=eng\"\n",
    "#Get response to retrieve data\n",
    "    response = requests.get(url)\n",
    "    soup = BeautifulSoup(response.text, \"html.parser\")\n",
    "    locations_text = [location.text for location in soup.find_all(\"span\", attrs={\"class\": \"authorJobTitle middle common__EiReviewDetailsStyle__newGrey\"})] \n",
    "    locations.extend(locations_text)\n",
    "    "
   ]
  },
  {
   "cell_type": "code",
   "execution_count": null,
   "id": "6d7f7890",
   "metadata": {},
   "outputs": [],
   "source": [
    "locations"
   ]
  },
  {
   "cell_type": "code",
   "execution_count": null,
   "id": "a7d22dec",
   "metadata": {},
   "outputs": [],
   "source": [
    "# Attempt 2 (without success)\n",
    "locations = []\n",
    "for i in range(2): # range for companies with a lot of reviews\n",
    "    url = \"https://www.glassdoor.ca/Reviews/Amazon-Reviews-E6036_P\"+str(i)+\".htm?filter.iso3Language=eng\"\n",
    "#Get response to retrieve data\n",
    "    response = requests.get(url)\n",
    "    soup = BeautifulSoup(response.text, \"html.parser\")\n",
    "    location_text = [location.text for location in soup.find_all(\"span\", attrs={\"class\": \"common__EiReviewDetailsStyle__newUiJobLine\"})]\n",
    "    locations.extend(location_text)\n",
    "    "
   ]
  },
  {
   "cell_type": "code",
   "execution_count": null,
   "id": "db413b3f",
   "metadata": {},
   "outputs": [],
   "source": [
    "locations"
   ]
  }
 ],
 "metadata": {
  "kernelspec": {
   "display_name": "insy-669-group-project",
   "language": "python",
   "name": "python3"
  },
  "language_info": {
   "codemirror_mode": {
    "name": "ipython",
    "version": 3
   },
   "file_extension": ".py",
   "mimetype": "text/x-python",
   "name": "python",
   "nbconvert_exporter": "python",
   "pygments_lexer": "ipython3",
   "version": "3.11.0 | packaged by conda-forge | (main, Oct 25 2022, 06:12:32) [MSC v.1929 64 bit (AMD64)]"
  },
  "vscode": {
   "interpreter": {
    "hash": "4e8724c141d7f45219f25bfd8638fe4af3cf76718fc8f6848186446036c8778f"
   }
  }
 },
 "nbformat": 4,
 "nbformat_minor": 5
}
