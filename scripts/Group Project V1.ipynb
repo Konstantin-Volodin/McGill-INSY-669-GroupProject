{
 "cells": [
  {
   "cell_type": "code",
   "execution_count": 1,
   "id": "fed7827c",
   "metadata": {},
   "outputs": [
    {
     "name": "stderr",
     "output_type": "stream",
     "text": [
      "[nltk_data] Downloading package omw-1.4 to\n",
      "[nltk_data]     C:\\Users\\Konstantin\\AppData\\Roaming\\nltk_data...\n"
     ]
    }
   ],
   "source": [
    "#import necesary libraries\n",
    "import requests #for scrapping\n",
    "import pandas as pd #data trasnformation\n",
    "from bs4 import BeautifulSoup #for scrapping\n",
    "import itertools #combinations\n",
    "import nltk # tokenize\n",
    "from nltk import pos_tag, sent_tokenize, wordpunct_tokenize # tokenize\n",
    "from nltk.corpus import stopwords #stopwords\n",
    "import string # for punctuation\n",
    "from collections import Counter # to get frequency of words\n",
    "from nltk.stem import WordNetLemmatizer # to lemmatize\n",
    "nltk.download('omw-1.4')\n",
    "from nltk.corpus import wordnet\n",
    "import matplotlib.pyplot as plt # for plotting"
   ]
  },
  {
   "cell_type": "code",
   "execution_count": 17,
   "id": "a8cb3465",
   "metadata": {},
   "outputs": [],
   "source": [
    "#Define URL\n",
    "cons=[]\n",
    "pros=[]\n",
    "for i in range(30):\n",
    "    url = \"https://www.glassdoor.ca/Reviews/Amazon-Reviews-E6036_P\"+str(i)+\".htm?filter.iso3Language=eng\"\n",
    "#Get response and find div-col which is the first element to get the name of the car manufacturers\n",
    "    response = requests.get(url)\n",
    "    soup = BeautifulSoup(response.text, \"html.parser\")\n",
    "    cons_text = [con.text for con in soup.find_all(\"span\", attrs={\"data-test\": \"cons\"})] \n",
    "    cons.extend(cons_text)\n",
    "    pros_text = [pro.text for pro in soup.find_all(\"span\", attrs={\"data-test\": \"pros\"})] \n",
    "    pros.extend(pros_text)\n"
   ]
  },
  {
   "cell_type": "code",
   "execution_count": 18,
   "id": "c090f403",
   "metadata": {},
   "outputs": [
    {
     "name": "stdout",
     "output_type": "stream",
     "text": [
      "['good company to work with.', 'It teaches fast and focuses a lot of time on it as well.', 'Good pay, challenging and interesting work', 'It’s great for your resume', 'Pay rate is good according to the work.', 'great benefits bonuses everything is available 24/7', 'Diversity, management, opportunities to grow, good compensation', 'Not getting bored, Can be fun if you like driving and some pgysical activity Clean and professional workplace', 'Good pay, good to have FAANG on your resume', 'fast paced, opportunity to innovate and flexibility, high paying', 'fast paced, opportunity to innovate and flexibility, high paying', '- great experience; - really smart people around you; - great benefits; - work-life balance;', '.big company to work for .more hour available to work .many position available to work .standing,sitting,walking .benefits', 'Amazing place to work and learn', 'Over-average pay for entry-level positions', 'good for part time opportunities', 'If learning by doing is your way of learning', 'Well-built internal processes, and tools. The team is fantastic, management also.', 'Team work Friendly Environment High pay', 'Amazon provides the right environment to innovate. Management team allows you to create and propose new ideas. Bias for action provides the speed the industry requires. I am very happy and proud to work for Amazon.', 'good to see people from different communities', 'Management is good they listen to your concerns and will address them', 'You get to work with the best talents around you. SDEs/SDMs are always willing to share information and help each other towards work goals. Operational process is transparent to all and hence there is less toxicity or biases. Leadership Principles are followed religiously and therefore serve as guiding light. Work hard , deliver and you will grow otherwise it is not easy to sustain in the fast-paced environment.', 'Biggest company in the world Growth opportunities Very good benefit plan', 'Great workplace for a warehouse job', 'Being on time on pay as well as transparency on everything from hours to pay.', '- Good pay - Work life balance', 'Encourage safety and a good work environment', '- Great environment. Teammates follow the leadership principles. - Remote and pretty flexible - Very good benefits and pay - Challenging thus promotes your growth as SDE.', '- They pay you more cash than other big names - They have multiple office locations and expanding, all are nice.', 'Growth and projects will always be there', '- Crash course in writing - Crash course in customer-backwards thinking - Crash course in time management - Crash course in productivity', 'Great review process. Good pay and benefits!', 'busy, little money, hard work', 'Technology Fast past Skill people Benefits', 'Good pay and smart people.', '- competitive salary - stock benefits - opportunities to grow -', 'Good pay for part time job', 'benefits, opportunities, training, pay, career', 'They have good onboarding schemae', 'They have good onboarding schemae', 'Good workplace and nice location', 'Flexible Schedule, fare pay as labor. standard environment', 'Great entry role to start your career. Diverse team, very fast paced. Career growth for this role is great within Amazon', '-easy issues most of the time -decent pay and good benefits -your experience may vary, but my team and manager are great', 'Competitive pay, Workplace safety, Healthy Work environment', 'Loved their benefits that they offer employees', 'organized and pays on time', 'Great Culture Working with the smartest people Leadership skills earned Great Salary', \"1. Supportive manager & team 2. You get to be a part of a world-class team and learn more about the role and organization as you grow 3. You can reach out to folks NOT in your field and they make time for you (something I haven't experienced with other companies) 4. Awesome benefits regards to career opportunities & growth, home-office setup, travel benefits etc.\", 'Very good for my time', 'Opportunity to learn and grow', 'Very kind and friendly co-workers', 'Flexible hours, PTO, consistent schedule, being a sorting center, the work was generally straight forward and enjoyable.', 'nice company and well paid', 'Staff is so polite and helpful.', 'money is more than minimum wage', 'Great compensation A lot of learning opportunities Amazing people You get to witness the scale of a trillion dollar org', 'Nice as it pay good', \"1. VET (Volunteer Extra Time), lots of overtime if you need to make extra money. 2. You don't get in trouble for coming in late because you can use PTO (Personal Time Off). 3. There's lots of VTO (Volunteer Time Off) when you're tired and want to stay home or go home early. 4. Great benefits. 5. Career Choice. Amazon will pay 90% of your tuition.\", 'Exciting Career Paths. Employee Benefits. A diverse, equitable and inclusive workplace. Workplace safety. Employees are empowered to support their local communities.', 'Best culture of Amazonian ..', \"None, let's be real like come on.\", 'full time work is always available and sometimes overtime', 'Great Company, but long work hours', 'Great experience working at amazon warehouse', 'Excellent benefits and a good salary.', '- Good team - Okay pay', 'Good job for student workers.', 'Great experience as it was nice working with this company', 'hgood hours and sign in bonus plus extra shifts', \"You'll be working for a known global brand. This is a pro you can leverage on for your future career growth particularly, outside of the organization.\", 'Good jobs Good pay Good staff', 'Amazon is a very large company', '-motivated coworkers -good pay and benefits -opportunities of growth and career advancement', '- You always have the motivation to work on something exciting - Leadership principles bring out the best in teams', 'you get to work on cool projects', 'Good compensation, challenging projects and great company culture.', 'The team is collaborative and full of cohesion', 'Good benefits, pay is good when you work some VET days.', 'Good pay,nica benefits good work llife balance', 'higher base salary in the field', 'Benefits and good pay + vacations', 'good money if you work long hours', 'Positive managers and good safety.', 'decent salary which is helpful', '- Good compensation - Lots of room to grow', 'Best paying jobs out there', 'Good money, lots of leadership exp', 'Drive alone throughout the day', 'good job. very hands on', '- Great learning experience. Working for amazon would be a career defining moment for you. - Good onboarding process. Very detailed and through - Everything in amazon is very prescriptive. You have a defined process for everything.', 'No experience needed. Training is done from day 1', 'Benefit, 10 hours a day', 'big company with a lot to learn', 'Tons of really smart people, fast-paced and exciting work, with something new to learn and discover every day.', '- Compensation is good - Good for new graduates to learn and grow', 'Good environment for working and salary', 'Good workplace environment to work', 'Opportunity to learn Work on latest technology Autonomy High focus on Diversity and inclusion', 'Good workplace environment to work', 'Opportunity to learn Work on latest technology Autonomy High focus on Diversity and inclusion', 'big name, everyone knows amazon', 'good working experience to be honest', 'Good pay, good remote work', 'Good place to learn and grow', 'Working in a team and getting the feedback', 'Work life balance Career growth', 'lots of new things to learn in teams', 'best place to earn and learn', '* It was OK. I feel neutral about it.', 'Good pay with long hours', 'Nice Pay, and good place to work', 'Great place to learn. Great challenges.', 'Benefits Professional growth Flexible shift', \"It is the place for people who can and want drive their development. Endless opportunities, it is just need one's eyes to be opened.\", 'Tech giant, great resources and large customer base, smart people.', 'If you are willing to learn and give yourself a chance, growing is the word in here.', 'Many very nice associates to work with that also want to \"work\" The pay for the work required is reasonable Many little perks and advantages Room for career growth', 'A few Flexibility on scheduling', 'Better than expected work life balance', 'can choose shift time and preference', 'Good people, growth opportunity, looks good on resume.', 'Seniors are incredibly talented and you’ll learn a lot working with them', '-Best team -Manager is soo supportive', '* Great manager, team, WLB, pay, autonomy, career growth, relevant tech', 'Great benefits Career Choice options Overtime', 'Learning and career growth opportunities', 'Overtime, benefits, clean work environment', 'Pretty good for your resume. Pay is nice', 'It is better to me', 'Good management Good environment for work Professional Room for growth', 'Great place to start job', 'brand name and brilliant people', 'Work had have fun make history', 'Amazon is a great place to innovate, build new technologies and help the community. the company is well established around the leadership principles which will help you to evaluate and drive your day to day work. Amazon tolerance to make mistakes give the engineers and ample space to come with new solutions and improve the products they are working on', 'Offers high payment and great benefits such as health insurance.', 'good pay fixed hours of work', 'Work life balance is good', 'Great benefits like paid personal time off and vacation', 'Fun coworkers, benefits and salary is fine', 'Aggressive mindset, clear vision, in depth planning. Opportunity to learn how to think, plan and deliver at scale', 'Excellent company with lots of challenges and new project to work on. You are the owner of your career at Amazon.', 'Talented people and lots of cool stuff to do.', 'I love Amazon and salary of Amazon', 'good benefits but no good balance life', 'Good behaviour good management Reward culture Could get promoted', 'Great Benefits Great Compensation Great training for preparing for the job', 'Repetitive work for long hours. After year we get lot of neck pain', 'Great place to work, very stimulating and fast paced']\n"
     ]
    }
   ],
   "source": [
    "print(pros)"
   ]
  },
  {
   "cell_type": "code",
   "execution_count": 7,
   "id": "9698f7ba",
   "metadata": {},
   "outputs": [
    {
     "name": "stdout",
     "output_type": "stream",
     "text": [
      "good to see people from different communities\n",
      "Management is good they listen to your concerns and will address them\n",
      "You get to work with the best talents around you. SDEs/SDMs are always willing to share information and help each other towards work goals. Operational process is transparent to all and hence there is less toxicity or biases. Leadership Principles are followed religiously and therefore serve as guiding light. Work hard , deliver and you will grow otherwise it is not easy to sustain in the fast-paced environment.\n",
      "Biggest company in the world Growth opportunities Very good benefit plan\n",
      "Great workplace for a warehouse job\n",
      "Being on time on pay as well as transparency on everything from hours to pay.\n",
      "- Good pay - Work life balance\n",
      "Encourage safety and a good work environment\n",
      "- Great environment. Teammates follow the leadership principles. - Remote and pretty flexible - Very good benefits and pay - Challenging thus promotes your growth as SDE.\n",
      "- They pay you more cash than other big names - They have multiple office locations and expanding, all are nice.\n"
     ]
    }
   ],
   "source": [
    "spans = soup.find_all(\"span\", attrs={\"data-test\": \"pros\"})\n",
    "\n",
    "for span in spans:\n",
    "    data = span.text\n",
    "    print(data)"
   ]
  },
  {
   "cell_type": "code",
   "execution_count": 8,
   "id": "124e8cec",
   "metadata": {},
   "outputs": [
    {
     "name": "stdout",
     "output_type": "stream",
     "text": [
      "its a very fast paced environment\n",
      "Politics , management favours some employees\n",
      "it is not a 9-5 job (and your compensation sort of dictates that) and you are expected to deliver your best so be prepared to hustle and transform yourself into your better version. Otherwise, this is not your place. No-frills in terms of misc benefits such as free swags/lunches/events as Amazon practices frugality in its operations (one of the Leadership Principles). So don't expect such pampering.\n",
      "Limited in decision taking Many unexperienced Managers missing employee management skills\n",
      "I can not think of any\n",
      "More flexibility of just working 8 hour shifts\n",
      "- Slow career progression as there's a quite a lot of fat in the company\n",
      "too much physical pressure and long shifts\n",
      "- 1 week of oncall can be a pain sometimes but it happens every 2.5 -3 months so still bearable.\n",
      "- Some teams might be toxic, inevitable since it's Amazon. - Heavy oncall duty. - They only unlock 20% of the total RSUs after 2 years of working. - No bonus.\n"
     ]
    }
   ],
   "source": [
    "spans = soup.find_all(\"span\", attrs={\"data-test\": \"cons\"})\n",
    "\n",
    "for span in spans:\n",
    "    data = span.text\n",
    "    print(data)"
   ]
  },
  {
   "cell_type": "code",
   "execution_count": null,
   "id": "93af2fca",
   "metadata": {},
   "outputs": [],
   "source": []
  }
 ],
 "metadata": {
  "kernelspec": {
   "display_name": "insy-669-group-project",
   "language": "python",
   "name": "python3"
  },
  "language_info": {
   "codemirror_mode": {
    "name": "ipython",
    "version": 3
   },
   "file_extension": ".py",
   "mimetype": "text/x-python",
   "name": "python",
   "nbconvert_exporter": "python",
   "pygments_lexer": "ipython3",
   "version": "3.11.0"
  },
  "vscode": {
   "interpreter": {
    "hash": "4e8724c141d7f45219f25bfd8638fe4af3cf76718fc8f6848186446036c8778f"
   }
  }
 },
 "nbformat": 4,
 "nbformat_minor": 5
}
