{
 "cells": [
  {
   "cell_type": "code",
   "execution_count": 8,
   "id": "fed7827c",
   "metadata": {},
   "outputs": [
    {
     "name": "stderr",
     "output_type": "stream",
     "text": [
      "[nltk_data] Downloading package omw-1.4 to\n",
      "[nltk_data]     C:\\Users\\ximen\\AppData\\Roaming\\nltk_data...\n",
      "[nltk_data]   Package omw-1.4 is already up-to-date!\n"
     ]
    }
   ],
   "source": [
    "#import necesary libraries\n",
    "import requests #for scrapping\n",
    "import pandas as pd #data trasnformation\n",
    "from bs4 import BeautifulSoup #for scrapping\n",
    "import itertools #combinations\n",
    "import nltk # tokenize\n",
    "from nltk import pos_tag, sent_tokenize, wordpunct_tokenize # tokenize\n",
    "from nltk.corpus import stopwords #stopwords\n",
    "import string # for punctuation\n",
    "from collections import Counter # to get frequency of words\n",
    "from nltk.stem import WordNetLemmatizer # to lemmatize\n",
    "nltk.download('omw-1.4')\n",
    "from nltk.corpus import wordnet\n",
    "import matplotlib.pyplot as plt # for plotting"
   ]
  },
  {
   "cell_type": "code",
   "execution_count": 14,
   "id": "a8cb3465",
   "metadata": {},
   "outputs": [],
   "source": [
    "#Define URL\n",
    "company = \"Amazon\"\n",
    "cons=[]\n",
    "pros=[]\n",
    "titles = []\n",
    "comp = []\n",
    "for i in range(1,450,15): # range for companies with a lot of reviews\n",
    "    url = \"https://www.glassdoor.ca/Reviews/Amazon-Reviews-E6036_P\"+str(i)+\".htm?filter.iso3Language=eng\"\n",
    "#Get response to retrieve data\n",
    "    response = requests.get(url)\n",
    "    soup = BeautifulSoup(response.text, \"html.parser\")\n",
    "    cons_text = [con.text for con in soup.find_all(\"span\", attrs={\"data-test\": \"cons\"})] \n",
    "    cons.extend(cons_text)\n",
    "    pros_text = [pro.text for pro in soup.find_all(\"span\", attrs={\"data-test\": \"pros\"})] \n",
    "    pros.extend(pros_text)\n",
    "    title_text = [title.text for title in soup.find_all(\"a\", class_=\"reviewLink\")] \n",
    "    titles.extend(title_text)"
   ]
  },
  {
   "cell_type": "code",
   "execution_count": 18,
   "id": "93af2fca",
   "metadata": {},
   "outputs": [
    {
     "data": {
      "text/html": [
       "<div>\n",
       "<style scoped>\n",
       "    .dataframe tbody tr th:only-of-type {\n",
       "        vertical-align: middle;\n",
       "    }\n",
       "\n",
       "    .dataframe tbody tr th {\n",
       "        vertical-align: top;\n",
       "    }\n",
       "\n",
       "    .dataframe thead th {\n",
       "        text-align: right;\n",
       "    }\n",
       "</style>\n",
       "<table border=\"1\" class=\"dataframe\">\n",
       "  <thead>\n",
       "    <tr style=\"text-align: right;\">\n",
       "      <th></th>\n",
       "      <th>Title_Review</th>\n",
       "      <th>Pros</th>\n",
       "      <th>Cons</th>\n",
       "      <th>Company</th>\n",
       "    </tr>\n",
       "  </thead>\n",
       "  <tbody>\n",
       "    <tr>\n",
       "      <th>0</th>\n",
       "      <td>Great workplace</td>\n",
       "      <td>Growth and projects will always be there</td>\n",
       "      <td>Work life balance is tough to manage</td>\n",
       "      <td>Amazon</td>\n",
       "    </tr>\n",
       "    <tr>\n",
       "      <th>1</th>\n",
       "      <td>intern</td>\n",
       "      <td>4 days shifts is nice</td>\n",
       "      <td>long hour shift can make you feel tired</td>\n",
       "      <td>Amazon</td>\n",
       "    </tr>\n",
       "    <tr>\n",
       "      <th>2</th>\n",
       "      <td>good</td>\n",
       "      <td>great work balance, great environment, locatio...</td>\n",
       "      <td>workload can be heavy sometimes</td>\n",
       "      <td>Amazon</td>\n",
       "    </tr>\n",
       "    <tr>\n",
       "      <th>3</th>\n",
       "      <td>great company</td>\n",
       "      <td>- lot of challenges - speak with data - great ...</td>\n",
       "      <td>none, best company ever. glad i worked for them</td>\n",
       "      <td>Amazon</td>\n",
       "    </tr>\n",
       "    <tr>\n",
       "      <th>4</th>\n",
       "      <td>Bad wlb</td>\n",
       "      <td>Good pay and benefits for new grad</td>\n",
       "      <td>Lots of work, high stress</td>\n",
       "      <td>Amazon</td>\n",
       "    </tr>\n",
       "  </tbody>\n",
       "</table>\n",
       "</div>"
      ],
      "text/plain": [
       "      Title_Review                                               Pros  \\\n",
       "0  Great workplace           Growth and projects will always be there   \n",
       "1           intern                              4 days shifts is nice   \n",
       "2             good  great work balance, great environment, locatio...   \n",
       "3    great company  - lot of challenges - speak with data - great ...   \n",
       "4          Bad wlb                 Good pay and benefits for new grad   \n",
       "\n",
       "                                              Cons Company  \n",
       "0             Work life balance is tough to manage  Amazon  \n",
       "1          long hour shift can make you feel tired  Amazon  \n",
       "2                  workload can be heavy sometimes  Amazon  \n",
       "3  none, best company ever. glad i worked for them  Amazon  \n",
       "4                        Lots of work, high stress  Amazon  "
      ]
     },
     "execution_count": 18,
     "metadata": {},
     "output_type": "execute_result"
    }
   ],
   "source": [
    "# Transform lists to data frame\n",
    "df = pd.DataFrame({\"Title_Review\": titles, \"Pros\": pros, \"Cons\":cons})\n",
    "df[\"Company\"] = company\n",
    "df.head()"
   ]
  }
 ],
 "metadata": {
  "kernelspec": {
   "display_name": "insy-669-group-project",
   "language": "python",
   "name": "python3"
  },
  "language_info": {
   "codemirror_mode": {
    "name": "ipython",
    "version": 3
   },
   "file_extension": ".py",
   "mimetype": "text/x-python",
   "name": "python",
   "nbconvert_exporter": "python",
   "pygments_lexer": "ipython3",
   "version": "3.11.0 | packaged by conda-forge | (main, Oct 25 2022, 06:12:32) [MSC v.1929 64 bit (AMD64)]"
  },
  "vscode": {
   "interpreter": {
    "hash": "4e8724c141d7f45219f25bfd8638fe4af3cf76718fc8f6848186446036c8778f"
   }
  }
 },
 "nbformat": 4,
 "nbformat_minor": 5
}
